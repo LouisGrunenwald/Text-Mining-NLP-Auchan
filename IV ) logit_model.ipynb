{
 "cells": [
  {
   "cell_type": "markdown",
   "metadata": {},
   "source": [
    "# Product classification based on ingredients."
   ]
  },
  {
   "cell_type": "code",
   "execution_count": 58,
   "metadata": {
    "ExecuteTime": {
     "end_time": "2020-02-09T19:57:36.294479Z",
     "start_time": "2020-02-09T19:57:36.283472Z"
    }
   },
   "outputs": [],
   "source": [
    "import pandas as pd\n",
    "import re\n",
    "from functools import reduce\n",
    "from nltk.probability import FreqDist\n",
    "from sklearn.linear_model import LogisticRegression\n",
    "from sklearn.model_selection import train_test_split \n",
    "from sklearn.ensemble import AdaBoostClassifier\n",
    "from sklearn import linear_model\n",
    "from sklearn.metrics import confusion_matrix\n",
    "import pickle"
   ]
  },
  {
   "cell_type": "markdown",
   "metadata": {},
   "source": [
    "### Preparing the data"
   ]
  },
  {
   "cell_type": "code",
   "execution_count": 2,
   "metadata": {
    "ExecuteTime": {
     "end_time": "2020-02-09T17:47:09.150932Z",
     "start_time": "2020-02-09T17:47:09.015258Z"
    }
   },
   "outputs": [
    {
     "data": {
      "text/html": [
       "<div>\n",
       "<style scoped>\n",
       "    .dataframe tbody tr th:only-of-type {\n",
       "        vertical-align: middle;\n",
       "    }\n",
       "\n",
       "    .dataframe tbody tr th {\n",
       "        vertical-align: top;\n",
       "    }\n",
       "\n",
       "    .dataframe thead th {\n",
       "        text-align: right;\n",
       "    }\n",
       "</style>\n",
       "<table border=\"1\" class=\"dataframe\">\n",
       "  <thead>\n",
       "    <tr style=\"text-align: right;\">\n",
       "      <th></th>\n",
       "      <th>Unnamed: 0</th>\n",
       "      <th>titres</th>\n",
       "      <th>urls</th>\n",
       "      <th>informations</th>\n",
       "      <th>allergenes</th>\n",
       "      <th>score</th>\n",
       "      <th>tags</th>\n",
       "    </tr>\n",
       "  </thead>\n",
       "  <tbody>\n",
       "    <tr>\n",
       "      <th>0</th>\n",
       "      <td>0</td>\n",
       "      <td>St Jean cannelloni ricotta épinard bio 250g</td>\n",
       "      <td>https://www.auchan.fr/st-jean-cannelloni-ricot...</td>\n",
       "      <td>['farce', 'epinard', 'ricotta', 'chapelure', '...</td>\n",
       "      <td>ble  lait  oeufs</td>\n",
       "      <td>na</td>\n",
       "      <td>['gluten', 'oeuf', 'lait']</td>\n",
       "    </tr>\n",
       "    <tr>\n",
       "      <th>1</th>\n",
       "      <td>1</td>\n",
       "      <td>Rana raviolis aux petits pois bio 250g</td>\n",
       "      <td>https://www.auchan.fr/rana-raviolis-aux-petits...</td>\n",
       "      <td>['farce', 'petit', 'poi', 'chapelure', 'ble', ...</td>\n",
       "      <td>allergene  ble  fromage  lait  oeuf produit ...</td>\n",
       "      <td>na</td>\n",
       "      <td>['gluten', 'oeuf', 'crustaces', 'poisson', 'la...</td>\n",
       "    </tr>\n",
       "    <tr>\n",
       "      <th>2</th>\n",
       "      <td>2</td>\n",
       "      <td>Auchan bio légumes pour couscous 680g</td>\n",
       "      <td>https://www.auchan.fr/auchan-bio-legumes-pour-...</td>\n",
       "      <td>['legume', 'carotte', 'poi', 'chiche', 'rehydr...</td>\n",
       "      <td>presence de celeri et produit a base de cele...</td>\n",
       "      <td>B</td>\n",
       "      <td>['gluten', 'soja', 'celeri', 'moutarde']</td>\n",
       "    </tr>\n",
       "    <tr>\n",
       "      <th>3</th>\n",
       "      <td>3</td>\n",
       "      <td>Le Traiteur taboulé aux légumes bio 250g</td>\n",
       "      <td>https://www.auchan.fr/le-traiteur-taboule-aux-...</td>\n",
       "      <td>['bio', 'oui', 'ble', 'rehydratee', 'poivron',...</td>\n",
       "      <td>gluten moutarde</td>\n",
       "      <td>na</td>\n",
       "      <td>['gluten', 'moutarde']</td>\n",
       "    </tr>\n",
       "    <tr>\n",
       "      <th>4</th>\n",
       "      <td>4</td>\n",
       "      <td>La Pastilla feuille de brick x10 +2gt -200g</td>\n",
       "      <td>https://www.auchan.fr/la-pastilla-feuille-de-b...</td>\n",
       "      <td>['ble', 'gluten', 'lecithine', 'soja', 'soja']</td>\n",
       "      <td>farine de ble gluten et lecithine de soja s...</td>\n",
       "      <td>na</td>\n",
       "      <td>['gluten', 'soja']</td>\n",
       "    </tr>\n",
       "  </tbody>\n",
       "</table>\n",
       "</div>"
      ],
      "text/plain": [
       "   Unnamed: 0                                       titres  \\\n",
       "0           0  St Jean cannelloni ricotta épinard bio 250g   \n",
       "1           1       Rana raviolis aux petits pois bio 250g   \n",
       "2           2        Auchan bio légumes pour couscous 680g   \n",
       "3           3     Le Traiteur taboulé aux légumes bio 250g   \n",
       "4           4  La Pastilla feuille de brick x10 +2gt -200g   \n",
       "\n",
       "                                                urls  \\\n",
       "0  https://www.auchan.fr/st-jean-cannelloni-ricot...   \n",
       "1  https://www.auchan.fr/rana-raviolis-aux-petits...   \n",
       "2  https://www.auchan.fr/auchan-bio-legumes-pour-...   \n",
       "3  https://www.auchan.fr/le-traiteur-taboule-aux-...   \n",
       "4  https://www.auchan.fr/la-pastilla-feuille-de-b...   \n",
       "\n",
       "                                        informations  \\\n",
       "0  ['farce', 'epinard', 'ricotta', 'chapelure', '...   \n",
       "1  ['farce', 'petit', 'poi', 'chapelure', 'ble', ...   \n",
       "2  ['legume', 'carotte', 'poi', 'chiche', 'rehydr...   \n",
       "3  ['bio', 'oui', 'ble', 'rehydratee', 'poivron',...   \n",
       "4     ['ble', 'gluten', 'lecithine', 'soja', 'soja']   \n",
       "\n",
       "                                          allergenes score  \\\n",
       "0                                 ble  lait  oeufs      na   \n",
       "1    allergene  ble  fromage  lait  oeuf produit ...    na   \n",
       "2    presence de celeri et produit a base de cele...     B   \n",
       "3                                  gluten moutarde      na   \n",
       "4     farine de ble gluten et lecithine de soja s...    na   \n",
       "\n",
       "                                                tags  \n",
       "0                         ['gluten', 'oeuf', 'lait']  \n",
       "1  ['gluten', 'oeuf', 'crustaces', 'poisson', 'la...  \n",
       "2           ['gluten', 'soja', 'celeri', 'moutarde']  \n",
       "3                             ['gluten', 'moutarde']  \n",
       "4                                 ['gluten', 'soja']  "
      ]
     },
     "execution_count": 2,
     "metadata": {},
     "output_type": "execute_result"
    }
   ],
   "source": [
    "data = pd.read_csv(\"treated.csv\" , encoding=\"utf-8\" , sep=\";\")\n",
    "data.head()"
   ]
  },
  {
   "cell_type": "code",
   "execution_count": 3,
   "metadata": {
    "ExecuteTime": {
     "end_time": "2020-02-09T17:47:09.197771Z",
     "start_time": "2020-02-09T17:47:09.152889Z"
    }
   },
   "outputs": [
    {
     "name": "stdout",
     "output_type": "stream",
     "text": [
      "count           8676\n",
      "unique          7240\n",
      "top       ['bovine']\n",
      "freq              28\n",
      "Name: informations, dtype: object\n",
      "count                                                  5074\n",
      "unique                                                 4355\n",
      "top       ['susceptible', 'avoir', 'composition', 'diffe...\n",
      "freq                                                     28\n",
      "Name: informations, dtype: object\n"
     ]
    }
   ],
   "source": [
    "# First we remove products with no nutritional score\n",
    "print(data.informations.describe())\n",
    "data = data[data.score!=\"na\"]\n",
    "print(data.informations.describe())"
   ]
  },
  {
   "cell_type": "markdown",
   "metadata": {},
   "source": [
    "Because we sent list objects to the csv file, we need to remove the list characters from the string"
   ]
  },
  {
   "cell_type": "code",
   "execution_count": 4,
   "metadata": {
    "ExecuteTime": {
     "end_time": "2020-02-09T17:47:09.564896Z",
     "start_time": "2020-02-09T17:47:09.201760Z"
    }
   },
   "outputs": [],
   "source": [
    "def str_to_list (string = \"\"):\n",
    "    string = re.sub(\"[\\[\\]'\\s]*\", \"\",string)\n",
    "    return string.split(\",\")\n",
    "data.informations = data.informations.apply(str_to_list)"
   ]
  },
  {
   "cell_type": "code",
   "execution_count": 5,
   "metadata": {
    "ExecuteTime": {
     "end_time": "2020-02-09T17:47:15.294429Z",
     "start_time": "2020-02-09T17:47:09.569867Z"
    }
   },
   "outputs": [],
   "source": [
    "# get all words\n",
    "words = reduce(lambda a, b : a + b , data.informations)"
   ]
  },
  {
   "cell_type": "code",
   "execution_count": 6,
   "metadata": {
    "ExecuteTime": {
     "end_time": "2020-02-09T17:47:16.319542Z",
     "start_time": "2020-02-09T17:47:15.299394Z"
    },
    "scrolled": true
   },
   "outputs": [
    {
     "data": {
      "text/plain": [
       "FreqDist({'lait': 6852, 'sel': 5847, 'sucre': 3750, 'ble': 3365, 'gluten': 2415, 'amidon': 1798, 'soja': 1772, 'oeuf': 1654, 'cacao': 1506, 'porc': 1484, ...})"
      ]
     },
     "execution_count": 6,
     "metadata": {},
     "output_type": "execute_result"
    }
   ],
   "source": [
    "# Count words\n",
    "fdist = FreqDist(words)\n",
    "fdist"
   ]
  },
  {
   "cell_type": "code",
   "execution_count": 7,
   "metadata": {
    "ExecuteTime": {
     "end_time": "2020-02-09T17:47:16.339455Z",
     "start_time": "2020-02-09T17:47:16.321495Z"
    }
   },
   "outputs": [
    {
     "name": "stdout",
     "output_type": "stream",
     "text": [
      "['lait', 'sel', 'sucre', 'ble', 'gluten', 'amidon', 'soja', 'oeuf', 'cacao', 'porc', 'beurre', 'moutarde', 'dextrose', 'glucose', 'huiledetournesol', 'ail', 'tomate', 'huiledecolza', 'vinaigre', 'pommesdeterre', 'poivre', 'oignon', 'celeri', 'creme', 'poisson', 'lecithine', 'alcool', 'levure', 'riz', 'citron', 'olive', 'poulet', 'chocolat', 'sesame', 'tournesol', 'vanille', 'lactose', 'carotte', 'fromage', 'colza', 'paprika', 'epices', 'naturels', 'poivron', 'jaune', 'drive', 'jambon', 'persil', 'maigre', 'pomme']\n",
      "Minimum frequency : 333\n"
     ]
    }
   ],
   "source": [
    "# We pick the top 50\n",
    "targetwords = sorted(fdist , key=lambda x : fdist[x] , reverse=True)[:50]\n",
    "print(targetwords)\n",
    "print(\"Minimum frequency : {}\".format(fdist[targetwords[-1]]))"
   ]
  },
  {
   "cell_type": "code",
   "execution_count": 8,
   "metadata": {
    "ExecuteTime": {
     "end_time": "2020-02-09T17:47:16.763325Z",
     "start_time": "2020-02-09T17:47:16.346428Z"
    }
   },
   "outputs": [
    {
     "data": {
      "text/html": [
       "<div>\n",
       "<style scoped>\n",
       "    .dataframe tbody tr th:only-of-type {\n",
       "        vertical-align: middle;\n",
       "    }\n",
       "\n",
       "    .dataframe tbody tr th {\n",
       "        vertical-align: top;\n",
       "    }\n",
       "\n",
       "    .dataframe thead th {\n",
       "        text-align: right;\n",
       "    }\n",
       "</style>\n",
       "<table border=\"1\" class=\"dataframe\">\n",
       "  <thead>\n",
       "    <tr style=\"text-align: right;\">\n",
       "      <th></th>\n",
       "      <th>Unnamed: 0</th>\n",
       "      <th>titres</th>\n",
       "      <th>urls</th>\n",
       "      <th>informations</th>\n",
       "      <th>allergenes</th>\n",
       "      <th>score</th>\n",
       "      <th>tags</th>\n",
       "      <th>lait</th>\n",
       "      <th>sel</th>\n",
       "      <th>sucre</th>\n",
       "      <th>...</th>\n",
       "      <th>paprika</th>\n",
       "      <th>epices</th>\n",
       "      <th>naturels</th>\n",
       "      <th>poivron</th>\n",
       "      <th>jaune</th>\n",
       "      <th>drive</th>\n",
       "      <th>jambon</th>\n",
       "      <th>persil</th>\n",
       "      <th>maigre</th>\n",
       "      <th>pomme</th>\n",
       "    </tr>\n",
       "  </thead>\n",
       "  <tbody>\n",
       "    <tr>\n",
       "      <th>2</th>\n",
       "      <td>2</td>\n",
       "      <td>Auchan bio légumes pour couscous 680g</td>\n",
       "      <td>https://www.auchan.fr/auchan-bio-legumes-pour-...</td>\n",
       "      <td>[legume, carotte, poi, chiche, rehydrate, nave...</td>\n",
       "      <td>presence de celeri et produit a base de cele...</td>\n",
       "      <td>B</td>\n",
       "      <td>['gluten', 'soja', 'celeri', 'moutarde']</td>\n",
       "      <td>0</td>\n",
       "      <td>1</td>\n",
       "      <td>0</td>\n",
       "      <td>...</td>\n",
       "      <td>0</td>\n",
       "      <td>1</td>\n",
       "      <td>0</td>\n",
       "      <td>1</td>\n",
       "      <td>0</td>\n",
       "      <td>0</td>\n",
       "      <td>0</td>\n",
       "      <td>0</td>\n",
       "      <td>0</td>\n",
       "      <td>0</td>\n",
       "    </tr>\n",
       "    <tr>\n",
       "      <th>6</th>\n",
       "      <td>6</td>\n",
       "      <td>Mmm! quenelle lyonnaise de brochet x4 -320g</td>\n",
       "      <td>https://www.auchan.fr/mmm-quenelle-lyonnaise-d...</td>\n",
       "      <td>[oeuf, ble, gluten, beurre, lait, lait, demi, ...</td>\n",
       "      <td>presence de ble ou hybride et produit a base...</td>\n",
       "      <td>D</td>\n",
       "      <td>['gluten', 'oeuf', 'poisson', 'lait']</td>\n",
       "      <td>1</td>\n",
       "      <td>1</td>\n",
       "      <td>0</td>\n",
       "      <td>...</td>\n",
       "      <td>0</td>\n",
       "      <td>0</td>\n",
       "      <td>0</td>\n",
       "      <td>0</td>\n",
       "      <td>0</td>\n",
       "      <td>0</td>\n",
       "      <td>0</td>\n",
       "      <td>0</td>\n",
       "      <td>0</td>\n",
       "      <td>0</td>\n",
       "    </tr>\n",
       "    <tr>\n",
       "      <th>7</th>\n",
       "      <td>7</td>\n",
       "      <td>Auchan salade marco polo 300g +100g offert</td>\n",
       "      <td>https://www.auchan.fr/auchan-salade-marco-polo...</td>\n",
       "      <td>[ble, oeuf, sel, surimi, chair, poisson, amido...</td>\n",
       "      <td>presence de ble ou hybride et produit a base...</td>\n",
       "      <td>C</td>\n",
       "      <td>['gluten', 'oeuf', 'crustaces', 'poisson', 'mo...</td>\n",
       "      <td>0</td>\n",
       "      <td>1</td>\n",
       "      <td>1</td>\n",
       "      <td>...</td>\n",
       "      <td>1</td>\n",
       "      <td>0</td>\n",
       "      <td>0</td>\n",
       "      <td>1</td>\n",
       "      <td>1</td>\n",
       "      <td>0</td>\n",
       "      <td>0</td>\n",
       "      <td>0</td>\n",
       "      <td>0</td>\n",
       "      <td>0</td>\n",
       "    </tr>\n",
       "    <tr>\n",
       "      <th>8</th>\n",
       "      <td>8</td>\n",
       "      <td>Auchan piemontaise jambon 300g +100g offert</td>\n",
       "      <td>https://www.auchan.fr/auchan-piemontaise-jambo...</td>\n",
       "      <td>[pommesdeterre, cuite, tomate, jambon, superie...</td>\n",
       "      <td>presence de moutarde et produit a base de mo...</td>\n",
       "      <td>B</td>\n",
       "      <td>['oeuf', 'moutarde']</td>\n",
       "      <td>0</td>\n",
       "      <td>1</td>\n",
       "      <td>0</td>\n",
       "      <td>...</td>\n",
       "      <td>0</td>\n",
       "      <td>0</td>\n",
       "      <td>0</td>\n",
       "      <td>0</td>\n",
       "      <td>1</td>\n",
       "      <td>0</td>\n",
       "      <td>1</td>\n",
       "      <td>0</td>\n",
       "      <td>0</td>\n",
       "      <td>0</td>\n",
       "    </tr>\n",
       "    <tr>\n",
       "      <th>9</th>\n",
       "      <td>9</td>\n",
       "      <td>Auchan salade alaska 300g +100g offert</td>\n",
       "      <td>https://www.auchan.fr/auchan-salade-alaska-300...</td>\n",
       "      <td>[surimi, chair, poisson, amidon, ble, oeuf, hu...</td>\n",
       "      <td>presence de ble ou hybride et produit a base...</td>\n",
       "      <td>C</td>\n",
       "      <td>['gluten', 'oeuf', 'crustaces', 'poisson', 'la...</td>\n",
       "      <td>1</td>\n",
       "      <td>1</td>\n",
       "      <td>1</td>\n",
       "      <td>...</td>\n",
       "      <td>1</td>\n",
       "      <td>0</td>\n",
       "      <td>0</td>\n",
       "      <td>0</td>\n",
       "      <td>1</td>\n",
       "      <td>0</td>\n",
       "      <td>0</td>\n",
       "      <td>0</td>\n",
       "      <td>0</td>\n",
       "      <td>0</td>\n",
       "    </tr>\n",
       "  </tbody>\n",
       "</table>\n",
       "<p>5 rows × 57 columns</p>\n",
       "</div>"
      ],
      "text/plain": [
       "   Unnamed: 0                                       titres  \\\n",
       "2           2        Auchan bio légumes pour couscous 680g   \n",
       "6           6  Mmm! quenelle lyonnaise de brochet x4 -320g   \n",
       "7           7   Auchan salade marco polo 300g +100g offert   \n",
       "8           8  Auchan piemontaise jambon 300g +100g offert   \n",
       "9           9       Auchan salade alaska 300g +100g offert   \n",
       "\n",
       "                                                urls  \\\n",
       "2  https://www.auchan.fr/auchan-bio-legumes-pour-...   \n",
       "6  https://www.auchan.fr/mmm-quenelle-lyonnaise-d...   \n",
       "7  https://www.auchan.fr/auchan-salade-marco-polo...   \n",
       "8  https://www.auchan.fr/auchan-piemontaise-jambo...   \n",
       "9  https://www.auchan.fr/auchan-salade-alaska-300...   \n",
       "\n",
       "                                        informations  \\\n",
       "2  [legume, carotte, poi, chiche, rehydrate, nave...   \n",
       "6  [oeuf, ble, gluten, beurre, lait, lait, demi, ...   \n",
       "7  [ble, oeuf, sel, surimi, chair, poisson, amido...   \n",
       "8  [pommesdeterre, cuite, tomate, jambon, superie...   \n",
       "9  [surimi, chair, poisson, amidon, ble, oeuf, hu...   \n",
       "\n",
       "                                          allergenes score  \\\n",
       "2    presence de celeri et produit a base de cele...     B   \n",
       "6    presence de ble ou hybride et produit a base...     D   \n",
       "7    presence de ble ou hybride et produit a base...     C   \n",
       "8    presence de moutarde et produit a base de mo...     B   \n",
       "9    presence de ble ou hybride et produit a base...     C   \n",
       "\n",
       "                                                tags  lait  sel  sucre  ...  \\\n",
       "2           ['gluten', 'soja', 'celeri', 'moutarde']     0    1      0  ...   \n",
       "6              ['gluten', 'oeuf', 'poisson', 'lait']     1    1      0  ...   \n",
       "7  ['gluten', 'oeuf', 'crustaces', 'poisson', 'mo...     0    1      1  ...   \n",
       "8                               ['oeuf', 'moutarde']     0    1      0  ...   \n",
       "9  ['gluten', 'oeuf', 'crustaces', 'poisson', 'la...     1    1      1  ...   \n",
       "\n",
       "   paprika  epices  naturels  poivron  jaune  drive  jambon  persil  maigre  \\\n",
       "2        0       1         0        1      0      0       0       0       0   \n",
       "6        0       0         0        0      0      0       0       0       0   \n",
       "7        1       0         0        1      1      0       0       0       0   \n",
       "8        0       0         0        0      1      0       1       0       0   \n",
       "9        1       0         0        0      1      0       0       0       0   \n",
       "\n",
       "   pomme  \n",
       "2      0  \n",
       "6      0  \n",
       "7      0  \n",
       "8      0  \n",
       "9      0  \n",
       "\n",
       "[5 rows x 57 columns]"
      ]
     },
     "execution_count": 8,
     "metadata": {},
     "output_type": "execute_result"
    }
   ],
   "source": [
    "# Now we create dummy variables with the words\n",
    "df = data.copy() #first we backup the data\n",
    "for word in targetwords:\n",
    "    df[word] = df.informations.apply(lambda x : int(word in x))\n",
    "\n",
    "df.head()\n",
    "    "
   ]
  },
  {
   "cell_type": "code",
   "execution_count": 9,
   "metadata": {
    "ExecuteTime": {
     "end_time": "2020-02-09T17:47:17.087444Z",
     "start_time": "2020-02-09T17:47:16.771295Z"
    }
   },
   "outputs": [],
   "source": [
    "df = df.drop(['Unnamed: 0', 'titres', 'urls', 'informations', 'allergenes','tags'] , axis=1)\n",
    "df.to_csv(\"dataset.csv\" , sep=\";\" , encoding = \"utf-8\"  , index=False)"
   ]
  },
  {
   "cell_type": "code",
   "execution_count": 10,
   "metadata": {
    "ExecuteTime": {
     "end_time": "2020-02-09T17:50:50.152822Z",
     "start_time": "2020-02-09T17:50:50.133353Z"
    }
   },
   "outputs": [
    {
     "data": {
      "text/html": [
       "<div>\n",
       "<style scoped>\n",
       "    .dataframe tbody tr th:only-of-type {\n",
       "        vertical-align: middle;\n",
       "    }\n",
       "\n",
       "    .dataframe tbody tr th {\n",
       "        vertical-align: top;\n",
       "    }\n",
       "\n",
       "    .dataframe thead th {\n",
       "        text-align: right;\n",
       "    }\n",
       "</style>\n",
       "<table border=\"1\" class=\"dataframe\">\n",
       "  <thead>\n",
       "    <tr style=\"text-align: right;\">\n",
       "      <th></th>\n",
       "      <th>score</th>\n",
       "      <th>lait</th>\n",
       "      <th>sel</th>\n",
       "      <th>sucre</th>\n",
       "      <th>ble</th>\n",
       "      <th>gluten</th>\n",
       "      <th>amidon</th>\n",
       "      <th>soja</th>\n",
       "      <th>oeuf</th>\n",
       "      <th>cacao</th>\n",
       "      <th>...</th>\n",
       "      <th>paprika</th>\n",
       "      <th>epices</th>\n",
       "      <th>naturels</th>\n",
       "      <th>poivron</th>\n",
       "      <th>jaune</th>\n",
       "      <th>drive</th>\n",
       "      <th>jambon</th>\n",
       "      <th>persil</th>\n",
       "      <th>maigre</th>\n",
       "      <th>pomme</th>\n",
       "    </tr>\n",
       "  </thead>\n",
       "  <tbody>\n",
       "    <tr>\n",
       "      <th>2</th>\n",
       "      <td>B</td>\n",
       "      <td>0</td>\n",
       "      <td>1</td>\n",
       "      <td>0</td>\n",
       "      <td>0</td>\n",
       "      <td>1</td>\n",
       "      <td>0</td>\n",
       "      <td>1</td>\n",
       "      <td>0</td>\n",
       "      <td>0</td>\n",
       "      <td>...</td>\n",
       "      <td>0</td>\n",
       "      <td>1</td>\n",
       "      <td>0</td>\n",
       "      <td>1</td>\n",
       "      <td>0</td>\n",
       "      <td>0</td>\n",
       "      <td>0</td>\n",
       "      <td>0</td>\n",
       "      <td>0</td>\n",
       "      <td>0</td>\n",
       "    </tr>\n",
       "    <tr>\n",
       "      <th>6</th>\n",
       "      <td>D</td>\n",
       "      <td>1</td>\n",
       "      <td>1</td>\n",
       "      <td>0</td>\n",
       "      <td>1</td>\n",
       "      <td>1</td>\n",
       "      <td>0</td>\n",
       "      <td>0</td>\n",
       "      <td>1</td>\n",
       "      <td>0</td>\n",
       "      <td>...</td>\n",
       "      <td>0</td>\n",
       "      <td>0</td>\n",
       "      <td>0</td>\n",
       "      <td>0</td>\n",
       "      <td>0</td>\n",
       "      <td>0</td>\n",
       "      <td>0</td>\n",
       "      <td>0</td>\n",
       "      <td>0</td>\n",
       "      <td>0</td>\n",
       "    </tr>\n",
       "    <tr>\n",
       "      <th>7</th>\n",
       "      <td>C</td>\n",
       "      <td>0</td>\n",
       "      <td>1</td>\n",
       "      <td>1</td>\n",
       "      <td>1</td>\n",
       "      <td>0</td>\n",
       "      <td>1</td>\n",
       "      <td>0</td>\n",
       "      <td>1</td>\n",
       "      <td>0</td>\n",
       "      <td>...</td>\n",
       "      <td>1</td>\n",
       "      <td>0</td>\n",
       "      <td>0</td>\n",
       "      <td>1</td>\n",
       "      <td>1</td>\n",
       "      <td>0</td>\n",
       "      <td>0</td>\n",
       "      <td>0</td>\n",
       "      <td>0</td>\n",
       "      <td>0</td>\n",
       "    </tr>\n",
       "    <tr>\n",
       "      <th>8</th>\n",
       "      <td>B</td>\n",
       "      <td>0</td>\n",
       "      <td>1</td>\n",
       "      <td>0</td>\n",
       "      <td>0</td>\n",
       "      <td>0</td>\n",
       "      <td>1</td>\n",
       "      <td>0</td>\n",
       "      <td>1</td>\n",
       "      <td>0</td>\n",
       "      <td>...</td>\n",
       "      <td>0</td>\n",
       "      <td>0</td>\n",
       "      <td>0</td>\n",
       "      <td>0</td>\n",
       "      <td>1</td>\n",
       "      <td>0</td>\n",
       "      <td>1</td>\n",
       "      <td>0</td>\n",
       "      <td>0</td>\n",
       "      <td>0</td>\n",
       "    </tr>\n",
       "    <tr>\n",
       "      <th>9</th>\n",
       "      <td>C</td>\n",
       "      <td>1</td>\n",
       "      <td>1</td>\n",
       "      <td>1</td>\n",
       "      <td>1</td>\n",
       "      <td>0</td>\n",
       "      <td>1</td>\n",
       "      <td>0</td>\n",
       "      <td>1</td>\n",
       "      <td>0</td>\n",
       "      <td>...</td>\n",
       "      <td>1</td>\n",
       "      <td>0</td>\n",
       "      <td>0</td>\n",
       "      <td>0</td>\n",
       "      <td>1</td>\n",
       "      <td>0</td>\n",
       "      <td>0</td>\n",
       "      <td>0</td>\n",
       "      <td>0</td>\n",
       "      <td>0</td>\n",
       "    </tr>\n",
       "  </tbody>\n",
       "</table>\n",
       "<p>5 rows × 51 columns</p>\n",
       "</div>"
      ],
      "text/plain": [
       "  score  lait  sel  sucre  ble  gluten  amidon  soja  oeuf  cacao  ...  \\\n",
       "2     B     0    1      0    0       1       0     1     0      0  ...   \n",
       "6     D     1    1      0    1       1       0     0     1      0  ...   \n",
       "7     C     0    1      1    1       0       1     0     1      0  ...   \n",
       "8     B     0    1      0    0       0       1     0     1      0  ...   \n",
       "9     C     1    1      1    1       0       1     0     1      0  ...   \n",
       "\n",
       "   paprika  epices  naturels  poivron  jaune  drive  jambon  persil  maigre  \\\n",
       "2        0       1         0        1      0      0       0       0       0   \n",
       "6        0       0         0        0      0      0       0       0       0   \n",
       "7        1       0         0        1      1      0       0       0       0   \n",
       "8        0       0         0        0      1      0       1       0       0   \n",
       "9        1       0         0        0      1      0       0       0       0   \n",
       "\n",
       "   pomme  \n",
       "2      0  \n",
       "6      0  \n",
       "7      0  \n",
       "8      0  \n",
       "9      0  \n",
       "\n",
       "[5 rows x 51 columns]"
      ]
     },
     "execution_count": 10,
     "metadata": {},
     "output_type": "execute_result"
    }
   ],
   "source": [
    "df.head()"
   ]
  },
  {
   "cell_type": "code",
   "execution_count": 12,
   "metadata": {
    "ExecuteTime": {
     "end_time": "2020-02-09T17:54:00.250302Z",
     "start_time": "2020-02-09T17:54:00.231377Z"
    }
   },
   "outputs": [
    {
     "name": "stdout",
     "output_type": "stream",
     "text": [
      "2     B\n",
      "6     D\n",
      "7     C\n",
      "8     B\n",
      "9     C\n",
      "10    D\n",
      "11    D\n",
      "12    D\n",
      "18    E\n",
      "22    C\n",
      "Name: score, dtype: object\n",
      "   lait  sel  sucre  ble  gluten  amidon  soja  oeuf  cacao  porc  ...  \\\n",
      "2     0    1      0    0       1       0     1     0      0     0  ...   \n",
      "6     1    1      0    1       1       0     0     1      0     0  ...   \n",
      "7     0    1      1    1       0       1     0     1      0     0  ...   \n",
      "8     0    1      0    0       0       1     0     1      0     1  ...   \n",
      "9     1    1      1    1       0       1     0     1      0     0  ...   \n",
      "\n",
      "   paprika  epices  naturels  poivron  jaune  drive  jambon  persil  maigre  \\\n",
      "2        0       1         0        1      0      0       0       0       0   \n",
      "6        0       0         0        0      0      0       0       0       0   \n",
      "7        1       0         0        1      1      0       0       0       0   \n",
      "8        0       0         0        0      1      0       1       0       0   \n",
      "9        1       0         0        0      1      0       0       0       0   \n",
      "\n",
      "   pomme  \n",
      "2      0  \n",
      "6      0  \n",
      "7      0  \n",
      "8      0  \n",
      "9      0  \n",
      "\n",
      "[5 rows x 50 columns]\n"
     ]
    }
   ],
   "source": [
    "X, y = df.iloc[:,1:] , df.iloc[:,0]\n",
    "print(y[:10])\n",
    "print(X.head())"
   ]
  },
  {
   "cell_type": "code",
   "execution_count": 13,
   "metadata": {
    "ExecuteTime": {
     "end_time": "2020-02-09T17:57:44.317588Z",
     "start_time": "2020-02-09T17:57:44.309610Z"
    }
   },
   "outputs": [],
   "source": [
    "scores = {\"E\":0 ,\n",
    "          \"D\":1 ,\n",
    "          \"C\":2 ,\n",
    "          \"B\":3 ,\n",
    "          \"A\":4 \n",
    "         }\n",
    "y = y.apply(lambda x : scores[x])"
   ]
  },
  {
   "cell_type": "code",
   "execution_count": 17,
   "metadata": {
    "ExecuteTime": {
     "end_time": "2020-02-09T17:58:33.385905Z",
     "start_time": "2020-02-09T17:58:33.375892Z"
    }
   },
   "outputs": [],
   "source": [
    "# Spliting the set into a training set and a test set.\n",
    "X_train, X_test, y_train, y_test = train_test_split(X,y,test_size = 0.20, random_state = 0)"
   ]
  },
  {
   "cell_type": "markdown",
   "metadata": {},
   "source": [
    "# Model estimation"
   ]
  },
  {
   "cell_type": "markdown",
   "metadata": {},
   "source": [
    "### Multi-class logistic regression"
   ]
  },
  {
   "cell_type": "code",
   "execution_count": 29,
   "metadata": {
    "ExecuteTime": {
     "end_time": "2020-02-09T18:28:14.520292Z",
     "start_time": "2020-02-09T18:28:13.410343Z"
    }
   },
   "outputs": [
    {
     "data": {
      "text/plain": [
       "LogisticRegression(C=0.5, class_weight=None, dual=False, fit_intercept=True,\n",
       "                   intercept_scaling=1, l1_ratio=0.5, max_iter=100,\n",
       "                   multi_class='multinomial', n_jobs=None, penalty='elasticnet',\n",
       "                   random_state=0, solver='saga', tol=0.0001, verbose=0,\n",
       "                   warm_start=False)"
      ]
     },
     "execution_count": 29,
     "metadata": {},
     "output_type": "execute_result"
    }
   ],
   "source": [
    "#Model training\n",
    "classifier = LogisticRegression(penalty=\"elasticnet\", \n",
    "                                C=0.5 , \n",
    "                                solver=\"saga\" , \n",
    "                                multi_class=\"multinomial\" ,  \n",
    "                                random_state=0,\n",
    "                                l1_ratio=0.5\n",
    "                               )\n",
    "classifier.fit(X_train,y_train)\n"
   ]
  },
  {
   "cell_type": "code",
   "execution_count": 30,
   "metadata": {
    "ExecuteTime": {
     "end_time": "2020-02-09T18:28:14.544228Z",
     "start_time": "2020-02-09T18:28:14.522322Z"
    }
   },
   "outputs": [
    {
     "data": {
      "text/plain": [
       "array([[ 59,  74,  15,   4,   9],\n",
       "       [ 24, 135,  34,  15,  37],\n",
       "       [ 14,  53,  67,  23,  41],\n",
       "       [  4,  42,  50,  50,  40],\n",
       "       [  1,  35,  16,  29, 144]], dtype=int64)"
      ]
     },
     "execution_count": 30,
     "metadata": {},
     "output_type": "execute_result"
    }
   ],
   "source": [
    "# Predicting the test set results\n",
    "y_pred = classifier.predict(X_test)\n",
    "\n",
    "# Making the Confusion Matrix\n",
    "cm = confusion_matrix(y_test, y_pred)\n",
    "cm"
   ]
  },
  {
   "cell_type": "code",
   "execution_count": 31,
   "metadata": {
    "ExecuteTime": {
     "end_time": "2020-02-09T18:28:14.859389Z",
     "start_time": "2020-02-09T18:28:14.847423Z"
    }
   },
   "outputs": [
    {
     "data": {
      "text/plain": [
       "0.4482758620689655"
      ]
     },
     "execution_count": 31,
     "metadata": {},
     "output_type": "execute_result"
    }
   ],
   "source": [
    "classifier.score(X_test , y_test)"
   ]
  },
  {
   "cell_type": "markdown",
   "metadata": {
    "ExecuteTime": {
     "end_time": "2020-02-09T18:49:32.966144Z",
     "start_time": "2020-02-09T18:49:32.960184Z"
    }
   },
   "source": [
    "### We will now try adding a model with a boosting technique"
   ]
  },
  {
   "cell_type": "code",
   "execution_count": 55,
   "metadata": {
    "ExecuteTime": {
     "end_time": "2020-02-09T18:59:37.427142Z",
     "start_time": "2020-02-09T18:59:28.434105Z"
    }
   },
   "outputs": [
    {
     "data": {
      "text/plain": [
       "AdaBoostClassifier(algorithm='SAMME.R',\n",
       "                   base_estimator=SGDClassifier(alpha=0.0001, average=False,\n",
       "                                                class_weight=None,\n",
       "                                                early_stopping=False,\n",
       "                                                epsilon=0.1, eta0=0.0,\n",
       "                                                fit_intercept=True,\n",
       "                                                l1_ratio=0.15,\n",
       "                                                learning_rate='optimal',\n",
       "                                                loss='log', max_iter=500,\n",
       "                                                n_iter_no_change=5, n_jobs=None,\n",
       "                                                penalty='l2', power_t=0.5,\n",
       "                                                random_state=0, shuffle=True,\n",
       "                                                tol=0.001,\n",
       "                                                validation_fraction=0.1,\n",
       "                                                verbose=0, warm_start=False),\n",
       "                   learning_rate=1.0, n_estimators=100, random_state=0)"
      ]
     },
     "execution_count": 55,
     "metadata": {},
     "output_type": "execute_result"
    }
   ],
   "source": [
    "boostedclf = AdaBoostClassifier(base_estimator=linear_model.SGDClassifier(\n",
    "                                loss='log',\n",
    "                                penalty='l2',\n",
    "                                max_iter=500,\n",
    "                                random_state=0),\n",
    "                                n_estimators=100,\n",
    "                                random_state=0\n",
    ")\n",
    "boostedclf.fit(X_train , y_train)"
   ]
  },
  {
   "cell_type": "code",
   "execution_count": 56,
   "metadata": {
    "ExecuteTime": {
     "end_time": "2020-02-09T18:59:37.548169Z",
     "start_time": "2020-02-09T18:59:37.432135Z"
    }
   },
   "outputs": [],
   "source": [
    "y_predboost = boostedclf.predict(X_test)"
   ]
  },
  {
   "cell_type": "code",
   "execution_count": 57,
   "metadata": {
    "ExecuteTime": {
     "end_time": "2020-02-09T18:59:37.559651Z",
     "start_time": "2020-02-09T18:59:37.550166Z"
    }
   },
   "outputs": [
    {
     "data": {
      "text/plain": [
       "array([[ 71,  68,   5,   4,  13],\n",
       "       [ 43, 125,  27,  11,  39],\n",
       "       [ 20,  49,  49,  15,  65],\n",
       "       [ 10,  48,  46,  36,  46],\n",
       "       [  4,  41,  12,  20, 148]], dtype=int64)"
      ]
     },
     "execution_count": 57,
     "metadata": {},
     "output_type": "execute_result"
    }
   ],
   "source": [
    "cmboost = confusion_matrix(y_test, y_predboost)\n",
    "cmboost"
   ]
  },
  {
   "cell_type": "markdown",
   "metadata": {},
   "source": [
    "Because the simple Logit model offers a better performance, we'll keep this model."
   ]
  },
  {
   "cell_type": "code",
   "execution_count": 59,
   "metadata": {
    "ExecuteTime": {
     "end_time": "2020-02-09T19:58:32.183406Z",
     "start_time": "2020-02-09T19:58:32.175394Z"
    }
   },
   "outputs": [],
   "source": [
    "pickle.dump(classifier, open(\"auchan_classification.sav\", 'wb'))"
   ]
  },
  {
   "cell_type": "code",
   "execution_count": null,
   "metadata": {},
   "outputs": [],
   "source": []
  }
 ],
 "metadata": {
  "kernelspec": {
   "display_name": "Python 3",
   "language": "python",
   "name": "python3"
  },
  "language_info": {
   "codemirror_mode": {
    "name": "ipython",
    "version": 3
   },
   "file_extension": ".py",
   "mimetype": "text/x-python",
   "name": "python",
   "nbconvert_exporter": "python",
   "pygments_lexer": "ipython3",
   "version": "3.7.6"
  }
 },
 "nbformat": 4,
 "nbformat_minor": 2
}
