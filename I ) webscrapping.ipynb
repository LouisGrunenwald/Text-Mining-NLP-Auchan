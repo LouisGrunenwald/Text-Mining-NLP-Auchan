{
 "cells": [
  {
   "cell_type": "markdown",
   "metadata": {},
   "source": [
    "## Partie I Webscrapping"
   ]
  },
  {
   "cell_type": "markdown",
   "metadata": {},
   "source": [
    "* #### Importation des packages"
   ]
  },
  {
   "cell_type": "code",
   "execution_count": 1,
   "metadata": {
    "ExecuteTime": {
     "end_time": "2020-02-09T10:50:39.179807Z",
     "start_time": "2020-02-09T10:50:37.639173Z"
    }
   },
   "outputs": [],
   "source": [
    "from lxml import html\n",
    "import requests\n",
    "import pandas as pd\n",
    "from bs4 import BeautifulSoup\n",
    "import urllib"
   ]
  },
  {
   "cell_type": "markdown",
   "metadata": {},
   "source": [
    "* #### Obtention de liens des produits"
   ]
  },
  {
   "cell_type": "raw",
   "metadata": {},
   "source": [
    "Testons le code pour une page: nous pouvons observer que pour chacune des pages du site web auchan, nous avons 30 produits."
   ]
  },
  {
   "cell_type": "code",
   "execution_count": 2,
   "metadata": {
    "ExecuteTime": {
     "end_time": "2020-02-09T10:50:40.635774Z",
     "start_time": "2020-02-09T10:50:39.184793Z"
    }
   },
   "outputs": [],
   "source": [
    "test_url=[]\n",
    "soup_test = BeautifulSoup(\n",
    "            urllib.request.urlopen(\"https://www.auchan.fr/nos-boutiques/ca-b00?page=1\"))\n",
    "for lien in soup_test.find_all('a', href=True): #les url se trouvent dans une balise 'a' et renseignées au niveau d el'attribut href\n",
    "          if 'pr-' in lien['href']: #on récupère uniquement les url des articles\n",
    "              test_url.append(lien['href'])\n",
    "\n"
   ]
  },
  {
   "cell_type": "code",
   "execution_count": 3,
   "metadata": {
    "ExecuteTime": {
     "end_time": "2020-02-09T10:50:40.660412Z",
     "start_time": "2020-02-09T10:50:40.640467Z"
    },
    "scrolled": true
   },
   "outputs": [
    {
     "data": {
      "text/plain": [
       "30"
      ]
     },
     "execution_count": 3,
     "metadata": {},
     "output_type": "execute_result"
    }
   ],
   "source": [
    "len(test_url)"
   ]
  },
  {
   "cell_type": "raw",
   "metadata": {},
   "source": [
    "Nous récupérons ici le lien de chacun des produits"
   ]
  },
  {
   "cell_type": "code",
   "execution_count": 4,
   "metadata": {
    "ExecuteTime": {
     "end_time": "2020-02-09T10:50:40.677368Z",
     "start_time": "2020-02-09T10:50:40.667411Z"
    }
   },
   "outputs": [],
   "source": [
    "url_pages=[\"https://www.auchan.fr/nos-boutiques/ca-b00?page=%d\" %(page_count) \\\n",
    "             for page_count in range(1 , 381)]\n"
   ]
  },
  {
   "cell_type": "markdown",
   "metadata": {},
   "source": [
    "Ce fonction nous permet de suivre le progres du boucle"
   ]
  },
  {
   "cell_type": "code",
   "execution_count": 5,
   "metadata": {
    "ExecuteTime": {
     "end_time": "2020-02-09T10:50:40.696318Z",
     "start_time": "2020-02-09T10:50:40.685355Z"
    }
   },
   "outputs": [],
   "source": [
    "def printper(current , total):\n",
    "    unit = total/100\n",
    "    print(\"{}% done\\n\".format(str(int(current//unit))))"
   ]
  },
  {
   "cell_type": "code",
   "execution_count": 6,
   "metadata": {
    "ExecuteTime": {
     "end_time": "2020-02-09T10:59:39.253573Z",
     "start_time": "2020-02-09T10:50:40.708321Z"
    }
   },
   "outputs": [
    {
     "name": "stdout",
     "output_type": "stream",
     "text": [
      "Looking for articles...\n",
      "1% done\n",
      "\n",
      "Looking for articles...\n",
      "2% done\n",
      "\n",
      "Looking for articles...\n",
      "3% done\n",
      "\n",
      "Looking for articles...\n",
      "4% done\n",
      "\n",
      "Looking for articles...\n",
      "5% done\n",
      "\n",
      "Looking for articles...\n",
      "6% done\n",
      "\n",
      "Looking for articles...\n",
      "7% done\n",
      "\n",
      "Looking for articles...\n",
      "8% done\n",
      "\n",
      "Looking for articles...\n",
      "9% done\n",
      "\n",
      "Looking for articles...\n",
      "10% done\n",
      "\n",
      "Looking for articles...\n",
      "11% done\n",
      "\n",
      "Looking for articles...\n",
      "12% done\n",
      "\n",
      "Looking for articles...\n",
      "13% done\n",
      "\n",
      "Looking for articles...\n",
      "14% done\n",
      "\n",
      "Looking for articles...\n",
      "15% done\n",
      "\n",
      "Looking for articles...\n",
      "16% done\n",
      "\n",
      "Looking for articles...\n",
      "17% done\n",
      "\n",
      "Looking for articles...\n",
      "18% done\n",
      "\n",
      "Looking for articles...\n",
      "19% done\n",
      "\n",
      "Looking for articles...\n",
      "20% done\n",
      "\n",
      "Looking for articles...\n",
      "21% done\n",
      "\n",
      "Looking for articles...\n",
      "22% done\n",
      "\n",
      "Looking for articles...\n",
      "23% done\n",
      "\n",
      "Looking for articles...\n",
      "24% done\n",
      "\n",
      "Looking for articles...\n",
      "25% done\n",
      "\n",
      "Looking for articles...\n",
      "26% done\n",
      "\n",
      "Looking for articles...\n",
      "27% done\n",
      "\n",
      "Looking for articles...\n",
      "28% done\n",
      "\n",
      "Looking for articles...\n",
      "29% done\n",
      "\n",
      "Looking for articles...\n",
      "30% done\n",
      "\n",
      "Looking for articles...\n",
      "31% done\n",
      "\n",
      "Looking for articles...\n",
      "32% done\n",
      "\n",
      "Looking for articles...\n",
      "33% done\n",
      "\n",
      "Looking for articles...\n",
      "34% done\n",
      "\n",
      "Looking for articles...\n",
      "35% done\n",
      "\n",
      "Looking for articles...\n",
      "36% done\n",
      "\n",
      "Looking for articles...\n",
      "37% done\n",
      "\n",
      "Looking for articles...\n",
      "38% done\n",
      "\n",
      "Looking for articles...\n",
      "39% done\n",
      "\n",
      "Looking for articles...\n",
      "40% done\n",
      "\n",
      "Looking for articles...\n",
      "41% done\n",
      "\n",
      "Looking for articles...\n",
      "42% done\n",
      "\n",
      "Looking for articles...\n",
      "43% done\n",
      "\n",
      "Looking for articles...\n",
      "44% done\n",
      "\n",
      "Looking for articles...\n",
      "45% done\n",
      "\n",
      "Looking for articles...\n",
      "46% done\n",
      "\n",
      "Looking for articles...\n",
      "47% done\n",
      "\n",
      "Looking for articles...\n",
      "48% done\n",
      "\n",
      "Looking for articles...\n",
      "49% done\n",
      "\n",
      "Looking for articles...\n",
      "50% done\n",
      "\n",
      "Looking for articles...\n",
      "51% done\n",
      "\n",
      "Looking for articles...\n",
      "52% done\n",
      "\n",
      "Looking for articles...\n",
      "53% done\n",
      "\n",
      "Looking for articles...\n",
      "54% done\n",
      "\n",
      "Looking for articles...\n",
      "55% done\n",
      "\n",
      "Looking for articles...\n",
      "56% done\n",
      "\n",
      "Looking for articles...\n",
      "57% done\n",
      "\n",
      "Looking for articles...\n",
      "58% done\n",
      "\n",
      "Looking for articles...\n",
      "59% done\n",
      "\n",
      "Looking for articles...\n",
      "60% done\n",
      "\n",
      "Looking for articles...\n",
      "61% done\n",
      "\n",
      "Looking for articles...\n",
      "62% done\n",
      "\n",
      "Looking for articles...\n",
      "63% done\n",
      "\n",
      "Looking for articles...\n",
      "64% done\n",
      "\n",
      "Looking for articles...\n",
      "65% done\n",
      "\n",
      "Looking for articles...\n",
      "66% done\n",
      "\n",
      "Looking for articles...\n",
      "67% done\n",
      "\n",
      "Looking for articles...\n",
      "68% done\n",
      "\n",
      "Looking for articles...\n",
      "69% done\n",
      "\n",
      "Looking for articles...\n",
      "70% done\n",
      "\n",
      "Looking for articles...\n",
      "71% done\n",
      "\n",
      "Looking for articles...\n",
      "72% done\n",
      "\n",
      "Looking for articles...\n",
      "73% done\n",
      "\n",
      "Looking for articles...\n",
      "74% done\n",
      "\n",
      "Looking for articles...\n",
      "75% done\n",
      "\n",
      "Looking for articles...\n",
      "76% done\n",
      "\n",
      "Looking for articles...\n",
      "77% done\n",
      "\n",
      "Looking for articles...\n",
      "78% done\n",
      "\n",
      "Looking for articles...\n",
      "79% done\n",
      "\n",
      "Looking for articles...\n",
      "80% done\n",
      "\n",
      "Looking for articles...\n",
      "81% done\n",
      "\n",
      "Looking for articles...\n",
      "82% done\n",
      "\n",
      "Looking for articles...\n",
      "83% done\n",
      "\n",
      "Looking for articles...\n",
      "84% done\n",
      "\n",
      "Looking for articles...\n",
      "85% done\n",
      "\n",
      "Looking for articles...\n",
      "86% done\n",
      "\n",
      "Looking for articles...\n",
      "87% done\n",
      "\n",
      "Looking for articles...\n",
      "88% done\n",
      "\n",
      "Looking for articles...\n",
      "89% done\n",
      "\n",
      "Looking for articles...\n",
      "90% done\n",
      "\n",
      "Looking for articles...\n",
      "91% done\n",
      "\n",
      "Looking for articles...\n",
      "92% done\n",
      "\n",
      "Looking for articles...\n",
      "93% done\n",
      "\n",
      "Looking for articles...\n",
      "94% done\n",
      "\n",
      "Looking for articles...\n",
      "95% done\n",
      "\n",
      "Looking for articles...\n",
      "96% done\n",
      "\n",
      "Looking for articles...\n",
      "97% done\n",
      "\n",
      "Looking for articles...\n",
      "98% done\n",
      "\n",
      "Looking for articles...\n",
      "99% done\n",
      "\n",
      "Looking for articles...\n",
      "100% done\n",
      "\n",
      "10431 products found.\n",
      "\n"
     ]
    }
   ],
   "source": [
    "url_articles=[]\n",
    "url_count = 0\n",
    "url_unit = len(url_pages)/100\n",
    "url_announced = 0\n",
    "for page in url_pages : \n",
    "    url_count += 1\n",
    "    soup = BeautifulSoup(urllib.request.urlopen(page))\n",
    "    if url_count//url_unit != url_announced:\n",
    "        print(\"Looking for articles...\")\n",
    "        url_announced = url_count//url_unit\n",
    "        printper(url_count, len(url_pages))\n",
    "    for lien in soup.find_all('a', href=True): #les url se trouvent dans une balise 'a' et renseignées au niveau d el'attribut href\n",
    "             if 'pr-' in lien['href']: #on récupère uniquement les url des articles\n",
    "                 url_articles.append(lien['href'])\n",
    "nart = len(url_articles)\n",
    "print (\"{} products found.\\n\".format(nart ))                     \n"
   ]
  },
  {
   "cell_type": "code",
   "execution_count": 7,
   "metadata": {
    "ExecuteTime": {
     "end_time": "2020-02-09T10:59:39.285479Z",
     "start_time": "2020-02-09T10:59:39.266540Z"
    }
   },
   "outputs": [
    {
     "data": {
      "text/plain": [
       "10431"
      ]
     },
     "execution_count": 7,
     "metadata": {},
     "output_type": "execute_result"
    }
   ],
   "source": [
    "len(url_articles)#nous trouvons bien la totalité des produits car il y a 30 produits par page pour environ 343 pages."
   ]
  },
  {
   "cell_type": "markdown",
   "metadata": {},
   "source": [
    "* #### Scrapping"
   ]
  },
  {
   "cell_type": "raw",
   "metadata": {},
   "source": [
    "Maintenant que nous avons la partie déterministe de l'URL de chacun des produits, nous pouvons scrapper pour chacun de ces URL, les ingrédients et la dénomination du produit."
   ]
  },
  {
   "cell_type": "code",
   "execution_count": 25,
   "metadata": {
    "ExecuteTime": {
     "end_time": "2020-02-09T11:46:43.886943Z",
     "start_time": "2020-02-09T11:46:10.173552Z"
    }
   },
   "outputs": [],
   "source": [
    "def assigner(elem=[]):\n",
    "    # This function evaluates the xpath result before adding it to the DB. \n",
    "    # Upon an empty result, it replaces it for [\"\"] so that a dataframe can be constructed.\n",
    "    if elem:\n",
    "        return elem\n",
    "    else:\n",
    "        return [\"\"]\n",
    "\n",
    "donnes_scrap = {\"titres\":[] ,  \n",
    "                \"urls\":[] , \n",
    "                \"informations\":[],\n",
    "                \"allergenes\":[],\n",
    "               \"score\":[]}\n",
    "\n",
    "url=\"https://www.auchan.fr\"\n",
    "\n",
    "unit = nart/100\n",
    "current = 0\n",
    "announced = 0\n",
    "\n",
    "for article in url_articles:\n",
    "    current += 1\n",
    "    page = requests.get(url + article)\n",
    "    tree = html.fromstring(page.content)\n",
    "    informations = tree.xpath('//h1[@class=\"site-breadcrumb__title\"]/a[@href]/text()') + \\\n",
    "                    tree.xpath('//div[@class=\"product-description__content\"]/p/text()')\n",
    "\n",
    "    for i in informations:   \n",
    "        if \"Ingrédients\" in i:\n",
    "            donnes_scrap[\"informations\"].append(i)\n",
    "            donnes_scrap[\"titres\"].append(informations[0]) \n",
    "            donnes_scrap[\"urls\"].append(url+article)\n",
    "            donnes_scrap[\"allergenes\"].append( \\\n",
    "                assigner(tree.xpath('//span[@class=\"product-features__value\"]/text() \\\n",
    "                    | //div[button/h4[@class=\"product-description__title\"]=\"Allergènes\"]\\\n",
    "                    /div[@class=\"product-description__content\"]/p/text()')))\n",
    "            donnes_scrap[\"score\"] += \\\n",
    "                assigner(tree.xpath('//div[@class=\"product-nutriscore\"]//img/@alt'))\n",
    "            \n",
    "    if current//unit != announced:\n",
    "        print(\"Looking for information...\")\n",
    "        announced = current//unit\n",
    "        printper(current, nart)"
   ]
  },
  {
   "cell_type": "code",
   "execution_count": 26,
   "metadata": {
    "ExecuteTime": {
     "end_time": "2020-02-09T11:46:43.895230Z",
     "start_time": "2020-02-09T11:46:43.889735Z"
    }
   },
   "outputs": [
    {
     "name": "stdout",
     "output_type": "stream",
     "text": [
      "Nb d'objets en titres: 74\n",
      "Nb d'objets en urls: 74\n",
      "Nb d'objets en informations: 74\n",
      "Nb d'objets en allergenes: 74\n",
      "Nb d'objets en score: 74\n"
     ]
    }
   ],
   "source": [
    "for cle in donnes_scrap:\n",
    "    print(\"Nb d'objets en {}: {}\".format(cle , len(donnes_scrap[cle])))"
   ]
  },
  {
   "cell_type": "code",
   "execution_count": 27,
   "metadata": {
    "ExecuteTime": {
     "end_time": "2020-02-09T11:46:44.049844Z",
     "start_time": "2020-02-09T11:46:43.909203Z"
    },
    "scrolled": true
   },
   "outputs": [],
   "source": [
    "df = pd.DataFrame(donnes_scrap)"
   ]
  },
  {
   "cell_type": "code",
   "execution_count": 28,
   "metadata": {
    "ExecuteTime": {
     "end_time": "2020-02-09T11:46:44.075752Z",
     "start_time": "2020-02-09T11:46:44.063799Z"
    }
   },
   "outputs": [
    {
     "data": {
      "text/plain": [
       "74"
      ]
     },
     "execution_count": 28,
     "metadata": {},
     "output_type": "execute_result"
    }
   ],
   "source": [
    "len(df)"
   ]
  },
  {
   "cell_type": "code",
   "execution_count": 29,
   "metadata": {
    "ExecuteTime": {
     "end_time": "2020-02-09T11:46:44.115650Z",
     "start_time": "2020-02-09T11:46:44.083734Z"
    }
   },
   "outputs": [],
   "source": [
    "df.to_csv(\"scrapped.csv\", sep=\";\" , encoding='utf-8')"
   ]
  },
  {
   "cell_type": "markdown",
   "metadata": {},
   "source": [
    "# Fin Labo"
   ]
  }
 ],
 "metadata": {
  "kernelspec": {
   "display_name": "Python 3",
   "language": "python",
   "name": "python3"
  },
  "language_info": {
   "codemirror_mode": {
    "name": "ipython",
    "version": 3
   },
   "file_extension": ".py",
   "mimetype": "text/x-python",
   "name": "python",
   "nbconvert_exporter": "python",
   "pygments_lexer": "ipython3",
   "version": "3.7.6"
  }
 },
 "nbformat": 4,
 "nbformat_minor": 4
}
