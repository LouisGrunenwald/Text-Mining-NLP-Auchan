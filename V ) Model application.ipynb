{
 "cells": [
  {
   "cell_type": "markdown",
   "metadata": {},
   "source": [
    "# Application of model to predict nutritional score"
   ]
  },
  {
   "cell_type": "code",
   "execution_count": 1,
   "metadata": {
    "ExecuteTime": {
     "end_time": "2020-02-09T22:54:30.414921Z",
     "start_time": "2020-02-09T22:54:28.773151Z"
    }
   },
   "outputs": [],
   "source": [
    "import pandas as pd\n",
    "import numpy as np\n",
    "import re\n",
    "from projetpython.logit_model import get_predict_data\n",
    "from projetpython.text_treatment import allergenes\n",
    "import pickle"
   ]
  },
  {
   "cell_type": "markdown",
   "metadata": {},
   "source": [
    "### First, we get the data"
   ]
  },
  {
   "cell_type": "code",
   "execution_count": 2,
   "metadata": {
    "ExecuteTime": {
     "end_time": "2020-02-09T22:54:37.907104Z",
     "start_time": "2020-02-09T22:54:30.421680Z"
    }
   },
   "outputs": [
    {
     "data": {
      "text/html": [
       "<div>\n",
       "<style scoped>\n",
       "    .dataframe tbody tr th:only-of-type {\n",
       "        vertical-align: middle;\n",
       "    }\n",
       "\n",
       "    .dataframe tbody tr th {\n",
       "        vertical-align: top;\n",
       "    }\n",
       "\n",
       "    .dataframe thead th {\n",
       "        text-align: right;\n",
       "    }\n",
       "</style>\n",
       "<table border=\"1\" class=\"dataframe\">\n",
       "  <thead>\n",
       "    <tr style=\"text-align: right;\">\n",
       "      <th></th>\n",
       "      <th>score</th>\n",
       "      <th>tags</th>\n",
       "      <th>lait</th>\n",
       "      <th>sel</th>\n",
       "      <th>sucre</th>\n",
       "      <th>ble</th>\n",
       "      <th>gluten</th>\n",
       "      <th>amidon</th>\n",
       "      <th>soja</th>\n",
       "      <th>oeuf</th>\n",
       "      <th>...</th>\n",
       "      <th>paprika</th>\n",
       "      <th>epices</th>\n",
       "      <th>naturels</th>\n",
       "      <th>poivron</th>\n",
       "      <th>jaune</th>\n",
       "      <th>drive</th>\n",
       "      <th>jambon</th>\n",
       "      <th>persil</th>\n",
       "      <th>maigre</th>\n",
       "      <th>pomme</th>\n",
       "    </tr>\n",
       "  </thead>\n",
       "  <tbody>\n",
       "    <tr>\n",
       "      <th>2</th>\n",
       "      <td>3</td>\n",
       "      <td>[gluten, soja, celeri, moutarde]</td>\n",
       "      <td>0</td>\n",
       "      <td>1</td>\n",
       "      <td>0</td>\n",
       "      <td>0</td>\n",
       "      <td>1</td>\n",
       "      <td>0</td>\n",
       "      <td>1</td>\n",
       "      <td>0</td>\n",
       "      <td>...</td>\n",
       "      <td>0</td>\n",
       "      <td>1</td>\n",
       "      <td>0</td>\n",
       "      <td>1</td>\n",
       "      <td>0</td>\n",
       "      <td>0</td>\n",
       "      <td>0</td>\n",
       "      <td>0</td>\n",
       "      <td>0</td>\n",
       "      <td>0</td>\n",
       "    </tr>\n",
       "    <tr>\n",
       "      <th>6</th>\n",
       "      <td>1</td>\n",
       "      <td>[gluten, oeuf, poisson, lait]</td>\n",
       "      <td>1</td>\n",
       "      <td>1</td>\n",
       "      <td>0</td>\n",
       "      <td>1</td>\n",
       "      <td>1</td>\n",
       "      <td>0</td>\n",
       "      <td>0</td>\n",
       "      <td>1</td>\n",
       "      <td>...</td>\n",
       "      <td>0</td>\n",
       "      <td>0</td>\n",
       "      <td>0</td>\n",
       "      <td>0</td>\n",
       "      <td>0</td>\n",
       "      <td>0</td>\n",
       "      <td>0</td>\n",
       "      <td>0</td>\n",
       "      <td>0</td>\n",
       "      <td>0</td>\n",
       "    </tr>\n",
       "    <tr>\n",
       "      <th>7</th>\n",
       "      <td>2</td>\n",
       "      <td>[gluten, oeuf, crustaces, poisson, moutarde]</td>\n",
       "      <td>0</td>\n",
       "      <td>1</td>\n",
       "      <td>1</td>\n",
       "      <td>1</td>\n",
       "      <td>0</td>\n",
       "      <td>1</td>\n",
       "      <td>0</td>\n",
       "      <td>1</td>\n",
       "      <td>...</td>\n",
       "      <td>1</td>\n",
       "      <td>0</td>\n",
       "      <td>0</td>\n",
       "      <td>1</td>\n",
       "      <td>1</td>\n",
       "      <td>0</td>\n",
       "      <td>0</td>\n",
       "      <td>0</td>\n",
       "      <td>0</td>\n",
       "      <td>0</td>\n",
       "    </tr>\n",
       "    <tr>\n",
       "      <th>8</th>\n",
       "      <td>3</td>\n",
       "      <td>[oeuf, moutarde]</td>\n",
       "      <td>0</td>\n",
       "      <td>1</td>\n",
       "      <td>0</td>\n",
       "      <td>0</td>\n",
       "      <td>0</td>\n",
       "      <td>1</td>\n",
       "      <td>0</td>\n",
       "      <td>1</td>\n",
       "      <td>...</td>\n",
       "      <td>0</td>\n",
       "      <td>0</td>\n",
       "      <td>0</td>\n",
       "      <td>0</td>\n",
       "      <td>1</td>\n",
       "      <td>0</td>\n",
       "      <td>1</td>\n",
       "      <td>0</td>\n",
       "      <td>0</td>\n",
       "      <td>0</td>\n",
       "    </tr>\n",
       "    <tr>\n",
       "      <th>9</th>\n",
       "      <td>2</td>\n",
       "      <td>[gluten, oeuf, crustaces, poisson, lait, mouta...</td>\n",
       "      <td>1</td>\n",
       "      <td>1</td>\n",
       "      <td>1</td>\n",
       "      <td>1</td>\n",
       "      <td>0</td>\n",
       "      <td>1</td>\n",
       "      <td>0</td>\n",
       "      <td>1</td>\n",
       "      <td>...</td>\n",
       "      <td>1</td>\n",
       "      <td>0</td>\n",
       "      <td>0</td>\n",
       "      <td>0</td>\n",
       "      <td>1</td>\n",
       "      <td>0</td>\n",
       "      <td>0</td>\n",
       "      <td>0</td>\n",
       "      <td>0</td>\n",
       "      <td>0</td>\n",
       "    </tr>\n",
       "  </tbody>\n",
       "</table>\n",
       "<p>5 rows × 52 columns</p>\n",
       "</div>"
      ],
      "text/plain": [
       "   score                                               tags  lait  sel  sucre  \\\n",
       "2      3                   [gluten, soja, celeri, moutarde]     0    1      0   \n",
       "6      1                      [gluten, oeuf, poisson, lait]     1    1      0   \n",
       "7      2       [gluten, oeuf, crustaces, poisson, moutarde]     0    1      1   \n",
       "8      3                                   [oeuf, moutarde]     0    1      0   \n",
       "9      2  [gluten, oeuf, crustaces, poisson, lait, mouta...     1    1      1   \n",
       "\n",
       "   ble  gluten  amidon  soja  oeuf  ...  paprika  epices  naturels  poivron  \\\n",
       "2    0       1       0     1     0  ...        0       1         0        1   \n",
       "6    1       1       0     0     1  ...        0       0         0        0   \n",
       "7    1       0       1     0     1  ...        1       0         0        1   \n",
       "8    0       0       1     0     1  ...        0       0         0        0   \n",
       "9    1       0       1     0     1  ...        1       0         0        0   \n",
       "\n",
       "   jaune  drive  jambon  persil  maigre  pomme  \n",
       "2      0      0       0       0       0      0  \n",
       "6      0      0       0       0       0      0  \n",
       "7      1      0       0       0       0      0  \n",
       "8      1      0       1       0       0      0  \n",
       "9      1      0       0       0       0      0  \n",
       "\n",
       "[5 rows x 52 columns]"
      ]
     },
     "execution_count": 2,
     "metadata": {},
     "output_type": "execute_result"
    }
   ],
   "source": [
    "data = get_predict_data()\n",
    "def str_to_list (string = \"\"):\n",
    "    string = re.sub(\"[\\[\\]'\\s]*\", \"\",string)\n",
    "    return string.split(\",\")\n",
    "data.tags = data.tags.apply(str_to_list)\n",
    "data.head()"
   ]
  },
  {
   "cell_type": "markdown",
   "metadata": {},
   "source": [
    "We need input form the user to know what allergies he needs to avoid."
   ]
  },
  {
   "cell_type": "code",
   "execution_count": 3,
   "metadata": {
    "ExecuteTime": {
     "end_time": "2020-02-09T22:55:08.797510Z",
     "start_time": "2020-02-09T22:54:37.910074Z"
    },
    "scrolled": true
   },
   "outputs": [
    {
     "name": "stdout",
     "output_type": "stream",
     "text": [
      "Please, indicate what your allergies are.(use numbers!)\n",
      "1. epinards\n",
      "2. amidon\n",
      "3. gluten\n",
      "4. oeuf\n",
      "5. crustaces\n",
      "6. poisson\n",
      "7. arachide\n",
      "8. soja\n",
      "9. lait\n",
      "10. fruits_coques\n",
      "11. celeri\n",
      "12. moutarde\n",
      "13. sesame\n",
      "14. lupin\n",
      "15. mollusque\n",
      "16. so2\n",
      "0. That's all\n",
      "3\n",
      "Please, indicate what your other allergies are.(use numbers!)\n",
      "1. epinards\n",
      "2. amidon\n",
      "3. oeuf\n",
      "4. crustaces\n",
      "5. poisson\n",
      "6. arachide\n",
      "7. soja\n",
      "8. lait\n",
      "9. fruits_coques\n",
      "10. celeri\n",
      "11. moutarde\n",
      "12. sesame\n",
      "13. lupin\n",
      "14. mollusque\n",
      "15. so2\n",
      "0. That's all\n",
      "3\n",
      "Please, indicate what your other allergies are.(use numbers!)\n",
      "1. epinards\n",
      "2. amidon\n",
      "3. crustaces\n",
      "4. poisson\n",
      "5. arachide\n",
      "6. soja\n",
      "7. lait\n",
      "8. fruits_coques\n",
      "9. celeri\n",
      "10. moutarde\n",
      "11. sesame\n",
      "12. lupin\n",
      "13. mollusque\n",
      "14. so2\n",
      "0. That's all\n",
      "7\n",
      "Please, indicate what your other allergies are.(use numbers!)\n",
      "1. epinards\n",
      "2. amidon\n",
      "3. crustaces\n",
      "4. poisson\n",
      "5. arachide\n",
      "6. soja\n",
      "7. fruits_coques\n",
      "8. celeri\n",
      "9. moutarde\n",
      "10. sesame\n",
      "11. lupin\n",
      "12. mollusque\n",
      "13. so2\n",
      "0. That's all\n",
      "0\n",
      "Thanks!\n"
     ]
    }
   ],
   "source": [
    "def my_allergies():\n",
    "    allergies = list((allergenes.keys())) + [\"That's all\"]\n",
    "    answer = []\n",
    "    print(\"Please, indicate what your allergies are.(use numbers!)\")\n",
    "    while True:\n",
    "        for i in range(len(allergies)-1):\n",
    "            print(\"{}. {}\".format(i+1 , allergies[i]))\n",
    "        print(\"{}. {}\".format(0 , allergies[-1]))\n",
    "        try:\n",
    "            res = int(input().strip()) \n",
    "            if  res == 0:\n",
    "                print(\"Thanks!\")\n",
    "                break\n",
    "            elif res == len(allergies):\n",
    "                raise ValueError\n",
    "            else:\n",
    "                answer.append(allergies.pop(res-1))\n",
    "                \n",
    "        except (ValueError , IndexError):\n",
    "            print(\"Please, use valid the numbers!\")\n",
    "        print(\"Please, indicate what your other allergies are.(use numbers!)\")\n",
    "    return answer\n",
    "\n",
    "answer = set(my_allergies())\n",
    "\n",
    "        "
   ]
  },
  {
   "cell_type": "markdown",
   "metadata": {},
   "source": [
    "We look for matches"
   ]
  },
  {
   "cell_type": "code",
   "execution_count": 4,
   "metadata": {
    "ExecuteTime": {
     "end_time": "2020-02-09T22:55:08.804485Z",
     "start_time": "2020-02-09T22:55:08.799465Z"
    }
   },
   "outputs": [
    {
     "name": "stdout",
     "output_type": "stream",
     "text": [
      "{'gluten', 'oeuf', 'lait'}\n"
     ]
    }
   ],
   "source": [
    "print(answer)\n"
   ]
  },
  {
   "cell_type": "code",
   "execution_count": 5,
   "metadata": {
    "ExecuteTime": {
     "end_time": "2020-02-09T22:55:08.823919Z",
     "start_time": "2020-02-09T22:55:08.806446Z"
    }
   },
   "outputs": [],
   "source": [
    "matches = data.tags.apply(lambda x : not bool(set(x) & answer))"
   ]
  },
  {
   "cell_type": "code",
   "execution_count": 6,
   "metadata": {
    "ExecuteTime": {
     "end_time": "2020-02-09T22:55:08.832897Z",
     "start_time": "2020-02-09T22:55:08.825913Z"
    }
   },
   "outputs": [
    {
     "name": "stdout",
     "output_type": "stream",
     "text": [
      "1562\n",
      "(5074, 52)\n"
     ]
    }
   ],
   "source": [
    "print(sum(matches))\n",
    "print(data.shape)"
   ]
  },
  {
   "cell_type": "code",
   "execution_count": 7,
   "metadata": {
    "ExecuteTime": {
     "end_time": "2020-02-09T22:55:08.852842Z",
     "start_time": "2020-02-09T22:55:08.834891Z"
    }
   },
   "outputs": [],
   "source": [
    "data = data[matches]"
   ]
  },
  {
   "cell_type": "markdown",
   "metadata": {
    "ExecuteTime": {
     "end_time": "2020-02-09T21:36:06.800711Z",
     "start_time": "2020-02-09T21:36:06.780765Z"
    }
   },
   "source": [
    "We take the average of every product."
   ]
  },
  {
   "cell_type": "code",
   "execution_count": 8,
   "metadata": {
    "ExecuteTime": {
     "end_time": "2020-02-09T22:55:08.877956Z",
     "start_time": "2020-02-09T22:55:08.855839Z"
    }
   },
   "outputs": [],
   "source": [
    "X_aller = data.iloc[:,2:].copy()\n",
    "X_aller = X_aller.apply(np.mean , axis=0)\n",
    "X_aller= np.array(X_aller).reshape(1, -1)"
   ]
  },
  {
   "cell_type": "markdown",
   "metadata": {},
   "source": [
    "We load the model"
   ]
  },
  {
   "cell_type": "code",
   "execution_count": 9,
   "metadata": {
    "ExecuteTime": {
     "end_time": "2020-02-09T22:55:08.898859Z",
     "start_time": "2020-02-09T22:55:08.884897Z"
    }
   },
   "outputs": [],
   "source": [
    "logit = pickle.load(open(\"auchan_classification.sav\", 'rb'))\n",
    "result = float(logit.predict(X_aller))"
   ]
  },
  {
   "cell_type": "markdown",
   "metadata": {},
   "source": [
    "### Result:"
   ]
  },
  {
   "cell_type": "code",
   "execution_count": 10,
   "metadata": {
    "ExecuteTime": {
     "end_time": "2020-02-09T22:55:08.921806Z",
     "start_time": "2020-02-09T22:55:08.901852Z"
    }
   },
   "outputs": [
    {
     "name": "stdout",
     "output_type": "stream",
     "text": [
      "By being allergic to gluten, oeuf, lait , your nutritional score is A\n"
     ]
    }
   ],
   "source": [
    "def predict(result , answer):\n",
    "    score = {\n",
    "        \"4\" : \"A\",\n",
    "        \"3\" : \"B\",\n",
    "        \"2\" : \"C\",\n",
    "        \"1\" : \"D\",\n",
    "        \"0\" : \"E\"\n",
    "    }\n",
    "    print(\"By being allergic to {} , your nutritional score is {}\".format(\n",
    "        \", \".join(list(answer)) , score[str(int(result))]))\n",
    "\n",
    "predict(result , answer)"
   ]
  }
 ],
 "metadata": {
  "kernelspec": {
   "display_name": "Python 3",
   "language": "python",
   "name": "python3"
  },
  "language_info": {
   "codemirror_mode": {
    "name": "ipython",
    "version": 3
   },
   "file_extension": ".py",
   "mimetype": "text/x-python",
   "name": "python",
   "nbconvert_exporter": "python",
   "pygments_lexer": "ipython3",
   "version": "3.7.6"
  }
 },
 "nbformat": 4,
 "nbformat_minor": 2
}
